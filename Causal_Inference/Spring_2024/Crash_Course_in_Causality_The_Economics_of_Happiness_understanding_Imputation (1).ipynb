{
  "nbformat": 4,
  "nbformat_minor": 0,
  "metadata": {
    "colab": {
      "provenance": []
    },
    "kernelspec": {
      "name": "python3",
      "display_name": "Python 3"
    },
    "language_info": {
      "name": "python"
    }
  },
  "cells": [
    {
      "cell_type": "markdown",
      "source": [
        "# Abstract </br>\n",
        "Causal inference in machine learning transcends the identification of patterns and correlations, venturing into the realm of determining causality from observational data. understanding the foundational concepts and methodologies for preparing data for causal analysis. It addresses common challenges, such as confounding variables, selection bias, and the importance of experimental design principles in observational studies. Through a combination of theoretical insights and practical Python code demonstrations, we will learn how to effectively prepare datasets for causal analysis, ensuring the integrity and reliability of findings."
      ],
      "metadata": {
        "id": "bHAE9oUD1hbr"
      }
    },
    {
      "cell_type": "markdown",
      "source": [
        "# Using the World Happiness Dataset for Causal Inference\n",
        "\n",
        "https://www.kaggle.com/datasets/nikbearbrown/the-economics-of-happiness-simple-data-20152019?resource=download\n",
        "\n",
        "We'll focus on demonstrating how to explore and prepare this specific dataset for causal analysis, highlighting novel approaches and bold strategies.\n",
        "\n",
        "This dataset presumably contains world happiness scores and related factors from 2015 to 2019, with imputations for missing values. Our objective will be to identify potential causal relationships between the happiness scores (dependent variable) and various predictors (independent variables such as GDP per capita, social support, etc.).\n",
        "\n",
        "In the realm of social sciences and economics, understanding the determinants of happiness is pivotal. This section leverages the \"World Happiness\" dataset, focusing on innovative and bold strategies for preparing data for causal inference. Through this practical example, we aim to uncover the underlying causes of happiness across different countries and years.\n",
        "\n",
        "Data Preparation: A Novel Approach\n",
        "Data preparation involves several steps tailored to enhance causal inference from the World Happiness dataset.\n",
        "\n",
        "\n",
        "# ***Handling Missing Data with Imputation***</br>\n",
        "\n",
        "**The dataset has undergone imputation by Prof Nick Brown**; however, understanding the imputation technique and its implications on causal inference is crucial."
      ],
      "metadata": {
        "id": "5ZC9mbRe2S9B"
      }
    },
    {
      "cell_type": "markdown",
      "source": [
        "# **Approach I: Linear Regression with Simple Imputation**\n",
        "\n",
        "by apply principles of experimental design such as stratification and covariate adjustment to strengthen our causal inference.</br>\n",
        "**We will prepare a linear model considering \"GDP per Capita\" as the independent variable and \"Happiness Score\" as the dependent variable, including potential confounders in our model.**\n",
        "</br></br>\n",
        "***hooo nooo!!!***\n",
        "</br></br>\n",
        "It appears there are missing values in our dataset that would prevent the linear regression model from being trained.\n",
        "</br></br>\n",
        "This is why Handling missing values is an essential part of preparing data for causal inference and analysis. Missing data can introduce bias and affect the validity of our causal conclusions.\n",
        "</br></br>\n",
        "Let's address the missing values by imputing them. Imputation involves replacing missing values with substitute values, such as the mean or median of the non-missing values in the column. We'll perform mean imputation for simplicity, which is suitable for this demonstration but ***may not always be the best choice for every scenario***.\n"
      ],
      "metadata": {
        "id": "Zl4BpolWu8L7"
      }
    },
    {
      "cell_type": "code",
      "source": [
        "import pandas as pd\n",
        "from sklearn.linear_model import LinearRegression\n",
        "from sklearn.model_selection import train_test_split\n",
        "from sklearn.metrics import mean_squared_error\n",
        "from sklearn.impute import SimpleImputer\n",
        "\n",
        "# Load the dataset\n",
        "file_path = 'https://raw.githubusercontent.com/nikbearbrown/INFO_7390_Art_and_Science_of_Data/main/CSV/TEH_World_Happiness_2015_2019_Imputed.csv'  # Update this to the actual file path\n",
        "df = pd.read_csv(file_path)\n",
        "\n",
        "# Selecting independent and dependent variables\n",
        "X = df[['GDP per capita', 'Social support', 'Healthy life', 'Freedom']]\n",
        "y = df['Happiness Score']\n",
        "\n",
        "# Handling missing values with mean imputation\n",
        "imputer = SimpleImputer(strategy='mean')\n",
        "X_imputed = imputer.fit_transform(X)\n",
        "\n",
        "# Splitting the imputed dataset into training and testing sets\n",
        "X_train_imputed, X_test_imputed, y_train, y_test = train_test_split(X_imputed, y, test_size=0.2, random_state=42)\n",
        "\n",
        "# Initializing and fitting the linear regression model\n",
        "model = LinearRegression()\n",
        "model.fit(X_train_imputed, y_train)\n",
        "\n",
        "# Predicting on the testing set\n",
        "y_pred_imputed = model.predict(X_test_imputed)\n",
        "\n",
        "# Calculating model performance using Mean Squared Error (MSE)\n",
        "mse_imputed = mean_squared_error(y_test, y_pred_imputed)\n",
        "\n",
        "# Outputting the MSE, coefficients, and intercept\n",
        "print(\"Mean Squared Error:\", mse_imputed)\n",
        "print(\"Coefficients:\", model.coef_)\n",
        "print(\"Intercept:\", model.intercept_)\n"
      ],
      "metadata": {
        "colab": {
          "base_uri": "https://localhost:8080/"
        },
        "id": "HFDdKMEW5KiO",
        "outputId": "d604f366-bda6-4b14-de52-ed8ff73f9761"
      },
      "execution_count": 2,
      "outputs": [
        {
          "output_type": "stream",
          "name": "stdout",
          "text": [
            "Mean Squared Error: 0.310344652797569\n",
            "Coefficients: [1.17004867 0.52218426 1.18506192 1.90623347]\n",
            "Intercept: 2.216329277565546\n"
          ]
        }
      ]
    },
    {
      "cell_type": "markdown",
      "source": [
        "After addressing the missing values through mean imputation and re-fitting our linear regression model, we successfully analyzed the relationship between \"GDP per Capita\" and the \"Happiness Score\" while controlling for potential confounders such as \"Social Support\", \"Healthy Life\", and \"Freedom\". </br>Here are the key findings:\n",
        "\n",
        "- **Mean Squared Error (MSE)**: 0.3103, indicating the average squared difference between the estimated values and the actual value.\n",
        "- **Model Coefficients**: The coefficients for \"GDP per Capita\", \"Social Support\", \"Healthy Life\", and \"Freedom\" are 1.1700, 0.5222, 1.1851, and 1.9062, respectively. These coefficients represent the change in the \"Happiness Score\" for a one-unit change in each predictor variable, holding all other variables constant.\n",
        "- **Model Intercept**: 2.2163, representing the \"Happiness Score\" when all predictor variables are 0."
      ],
      "metadata": {
        "id": "S_p6269GzDEp"
      }
    },
    {
      "cell_type": "markdown",
      "source": [
        "**Identifying and Controlling for Time-Varying Confounders**\n",
        "\n",
        "Given the panel structure of the dataset (repeated observations over time), we address the challenge of time-varying confounders—variables that change over time and can affect both the treatment and outcome. We introduce the use of Fixed Effects models to control for unobserved heterogeneity across countries and over time."
      ],
      "metadata": {
        "id": "FKF0vXgK48Iz"
      }
    },
    {
      "cell_type": "markdown",
      "source": [
        "These results highlight the importance of controlling for confounders in causal analysis. </br>\n",
        "- Each of the included variables contributes to explaining variations in the \"Happiness Score\", underscoring the complexity of causal relationships in observational data. Additionally,\n",
        "- addressing selection bias and applying experimental design principles in observational studies, such as through stratification and covariate adjustment, further strengthens the reliability of causal inferences."
      ],
      "metadata": {
        "id": "Gp55MTeg0Fcr"
      }
    },
    {
      "cell_type": "markdown",
      "source": [
        "# **Approach II: OLS Regression with Detailed Data Preparation**\n",
        "\n",
        "\n",
        "### Data Loading and Preprocessing\n",
        "To account for the categorical nature of 'Country' and 'Year', these columns are converted to categorical data types, which helps in treating them as fixed effects in the subsequent analysis.\n",
        "\n",
        "### Handling Categorical Variables\n",
        "Dummy variables are generated for both 'Country' and 'Year' to incorporate these as fixed effects in the model. This is crucial for causal inference as it controls for unobserved heterogeneity across countries and years that might influence the happiness scores. The first category is dropped for each to avoid multicollinearity, a condition where predictor variables are highly correlated, which can distort the analysis.\n",
        "\n",
        "### Feature Engineering\n",
        "The model includes 'GDP per capita' and 'Social support' as continuous predictor variables, reflecting the economic and social factors' contributions to happiness. The inclusion of country and year dummies allows the model to adjust for the fixed effects of these categories, aiming to isolate the impact of the GDP per capita and social support on the happiness score.\n",
        "\n",
        "### Model Specification\n",
        "An intercept term is added explicitly to the model to account for the baseline level of happiness when all other predictor variables are zero. This is a common practice in regression analysis to ensure the model accurately captures the relationship between the predictors and the outcome variable.\n",
        "\n",
        "### Missing Values Handling\n",
        "The code explicitly replaces infinite values with NaN and removes any rows with NaN values from both the predictor and outcome variables. This step is essential to ensure that the model does not fail due to undefined or missing values, which could otherwise introduce bias or inaccuracies in the causal analysis.\n",
        "\n",
        "### Model Fitting and Summary\n",
        "The `statsmodels` library's OLS (Ordinary Least Squares) method is used to fit the model. This statistical technique is employed to estimate the unknown parameters in a linear regression model, aiming to minimize the sum of squared differences between observed and predicted values. The summary of the model provides detailed output, including coefficients for each predictor, indicating their impact on the Happiness Score. It also includes statistical tests and metrics that assess the model's overall fit and the significance of individual predictors.\n",
        "\n",
        "By controlling for country and year effects and focusing on economic and social predictors, this approach attempts to uncover the causal relationships underlying the data. This methodology exemplifies how to prepare and analyze data for causal inference in machine learning, emphasizing the importance of careful data handling, model specification, and interpretation of results in uncovering causal relationships from observational data.\n"
      ],
      "metadata": {
        "id": "622OGVvt0rVd"
      }
    },
    {
      "cell_type": "code",
      "source": [
        "import statsmodels.api as sm\n",
        "import pandas as pd\n",
        "import numpy as np\n",
        "\n",
        "# Load the dataset\n",
        "df = pd.read_csv('https://raw.githubusercontent.com/nikbearbrown/INFO_7390_Art_and_Science_of_Data/main/CSV/TEH_World_Happiness_2015_2019_Imputed.csv')\n",
        "\n",
        "# Ensure 'Country' and 'Year' are treated as categorical variables\n",
        "df['Country'] = df['Country'].astype('category')\n",
        "df['Year'] = df['Year'].astype('category')\n",
        "\n",
        "# Generate dummy variables for 'Country' and 'Year', dropping the first to avoid multicollinearity\n",
        "country_dummies = pd.get_dummies(df['Country'], drop_first=True)\n",
        "year_dummies = pd.get_dummies(df['Year'], drop_first=True)\n",
        "\n",
        "# Combine all relevant features along with the country and year dummies\n",
        "X = pd.concat([df[['GDP per capita', 'Social support']], country_dummies, year_dummies], axis=1)\n",
        "\n",
        "# Adding an intercept term for the OLS model\n",
        "X['intercept'] = 1\n",
        "\n",
        "Y = df['Happiness Score']\n",
        "\n",
        "# Handle missing values explicitly across the entire DataFrame to ensure no NaNs or infinities\n",
        "X.replace([np.inf, -np.inf], np.nan, inplace=True)  # Replace infinities with NaN\n",
        "X.dropna(inplace=True)  # Drop any rows with NaN values\n",
        "\n",
        "Y.replace([np.inf, -np.inf], np.nan, inplace=True)  # Do the same for Y\n",
        "Y.dropna(inplace=True)  # And drop NaNs in Y\n",
        "\n",
        "# Ensure Y has the same index as X to align both datasets\n",
        "Y = Y[X.index]\n",
        "\n",
        "# Now, fit the model with the cleaned and aligned data\n",
        "fe_model = sm.OLS(Y, X).fit()\n",
        "\n",
        "print(fe_model.summary())\n"
      ],
      "metadata": {
        "colab": {
          "base_uri": "https://localhost:8080/"
        },
        "id": "TVQSCR2z6mH8",
        "outputId": "ac590720-ec10-42d5-e6f8-a0669ca0ed0d"
      },
      "execution_count": 3,
      "outputs": [
        {
          "output_type": "stream",
          "name": "stdout",
          "text": [
            "                            OLS Regression Results                            \n",
            "==============================================================================\n",
            "Dep. Variable:        Happiness Score   R-squared:                       0.967\n",
            "Model:                            OLS   Adj. R-squared:                  0.957\n",
            "Method:                 Least Squares   F-statistic:                     99.48\n",
            "Date:                Sat, 23 Mar 2024   Prob (F-statistic):               0.00\n",
            "Time:                        23:26:32   Log-Likelihood:                 130.79\n",
            "No. Observations:                 773   AIC:                             88.41\n",
            "Df Residuals:                     598   BIC:                             902.2\n",
            "Df Model:                         174                                         \n",
            "Covariance Type:            nonrobust                                         \n",
            "============================================================================================\n",
            "                               coef    std err          t      P>|t|      [0.025      0.975]\n",
            "--------------------------------------------------------------------------------------------\n",
            "GDP per capita               0.6656      0.240      2.771      0.006       0.194       1.137\n",
            "Social support               0.4176      0.150      2.778      0.006       0.122       0.713\n",
            "Albania                      0.6686      0.215      3.105      0.002       0.246       1.092\n",
            "Algeria                      1.4408      0.249      5.786      0.000       0.952       1.930\n",
            "Angola                      -0.1568      0.214     -0.733      0.464      -0.577       0.264\n",
            "Argentina                    2.0600      0.287      7.172      0.000       1.496       2.624\n",
            "Armenia                      0.3586      0.208      1.725      0.085      -0.050       0.767\n",
            "Australia                    2.6553      0.346      7.676      0.000       1.976       3.335\n",
            "Austria                      2.5376      0.343      7.402      0.000       1.864       3.211\n",
            "Azerbaijan                   0.9797      0.256      3.822      0.000       0.476       1.483\n",
            "Bahrain                      1.5650      0.332      4.718      0.000       0.914       2.216\n",
            "Bangladesh                   0.8609      0.158      5.460      0.000       0.551       1.171\n",
            "Belarus                      1.2130      0.283      4.279      0.000       0.656       1.770\n",
            "Belgium                      2.3350      0.338      6.911      0.000       1.671       2.999\n",
            "Belize                       1.9010      0.230      8.275      0.000       1.450       2.352\n",
            "Benin                        0.4041      0.147      2.743      0.006       0.115       0.693\n",
            "Bhutan                       0.9708      0.230      4.214      0.000       0.518       1.423\n",
            "Bolivia                      1.7411      0.213      8.160      0.000       1.322       2.160\n",
            "Bosnia and Herzegovina       1.0332      0.227      4.548      0.000       0.587       1.479\n",
            "Botswana                    -0.4377      0.259     -1.693      0.091      -0.945       0.070\n",
            "Brazil                       2.3134      0.273      8.460      0.000       1.776       2.850\n",
            "Bulgaria                     0.2490      0.280      0.889      0.375      -0.301       0.799\n",
            "Burkina Faso                 0.3696      0.166      2.223      0.027       0.043       0.696\n",
            "Burundi                     -0.2632      0.163     -1.618      0.106      -0.583       0.056\n",
            "Cambodia                     0.3706      0.172      2.148      0.032       0.032       0.709\n",
            "Cameroon                     0.8904      0.169      5.280      0.000       0.559       1.222\n",
            "Canada                       2.7432      0.343      8.003      0.000       2.070       3.416\n",
            "Central African Republic  4.546e-16   8.28e-17      5.488      0.000    2.92e-16    6.17e-16\n",
            "Chad                         0.3094      0.159      1.947      0.052      -0.003       0.622\n",
            "Chile                        2.2021      0.287      7.663      0.000       1.638       2.766\n",
            "China                        1.0154      0.244      4.157      0.000       0.536       1.495\n",
            "Colombia                     2.0311      0.265      7.664      0.000       1.511       2.552\n",
            "Comoros                      0.3338      0.180      1.859      0.063      -0.019       0.686\n",
            "Congo (Brazzaville)          0.4931      0.181      2.720      0.007       0.137       0.849\n",
            "Congo (Kinshasa)             0.7185      0.190      3.774      0.000       0.345       1.092\n",
            "Costa Rica                   2.7836      0.273     10.192      0.000       2.247       3.320\n",
            "Croatia                      1.1868      0.266      4.468      0.000       0.665       1.708\n",
            "Cyprus                       1.3504      0.294      4.600      0.000       0.774       1.927\n",
            "Czech Republic               2.1529      0.315      6.836      0.000       1.534       2.771\n",
            "Denmark                      2.9077      0.350      8.318      0.000       2.221       3.594\n",
            "Djibouti                     0.6477      0.262      2.472      0.014       0.133       1.162\n",
            "Dominican Republic           0.8943      0.264      3.384      0.001       0.375       1.413\n",
            "Ecuador                      1.7871      0.242      7.389      0.000       1.312       2.262\n",
            "Egypt                        0.2960      0.219      1.350      0.178      -0.135       0.727\n",
            "El Salvador                  2.0095      0.222      9.045      0.000       1.573       2.446\n",
            "Estonia                      1.1406      0.313      3.649      0.000       0.527       1.754\n",
            "Ethiopia                     0.8040      0.156      5.147      0.000       0.497       1.111\n",
            "Finland                      2.9315      0.341      8.600      0.000       2.262       3.601\n",
            "France                       1.9660      0.329      5.982      0.000       1.321       2.611\n",
            "Gabon                        0.1417      0.261      0.543      0.587      -0.371       0.654\n",
            "Gambia                       0.8220      0.262      3.142      0.002       0.308       1.336\n",
            "Georgia                      0.4654      0.191      2.440      0.015       0.091       0.840\n",
            "Germany                      2.3285      0.342      6.811      0.000       1.657       3.000\n",
            "Ghana                        0.7085      0.171      4.146      0.000       0.373       1.044\n",
            "Greece                       0.8049      0.282      2.852      0.004       0.251       1.359\n",
            "Guatemala                    2.2262      0.223      9.998      0.000       1.789       2.664\n",
            "Guinea                       0.3014      0.151      1.991      0.047       0.004       0.599\n",
            "Haiti                        0.2894      0.150      1.928      0.054      -0.005       0.584\n",
            "Honduras                     1.2577      0.197      6.387      0.000       0.871       1.644\n",
            "Hong Kong                    0.8915      0.341      2.613      0.009       0.221       1.562\n",
            "Hong Kong S.A.R., China      0.9199      0.402      2.290      0.022       0.131       1.709\n",
            "Hungary                      0.8988      0.297      3.022      0.003       0.315       1.483\n",
            "Iceland                      2.8607      0.352      8.137      0.000       2.170       3.551\n",
            "India                        0.4618      0.177      2.614      0.009       0.115       0.809\n",
            "Indonesia                    1.0626      0.239      4.454      0.000       0.594       1.531\n",
            "Iran                         0.5886      0.237      2.486      0.013       0.124       1.054\n",
            "Iraq                         0.3675      0.240      1.532      0.126      -0.104       0.839\n",
            "Ireland                      2.2848      0.362      6.319      0.000       1.575       2.995\n",
            "Israel                       2.6184      0.321      8.150      0.000       1.987       3.249\n",
            "Italy                        1.4878      0.324      4.594      0.000       0.852       2.124\n",
            "Ivory Coast                  0.4769      0.167      2.862      0.004       0.150       0.804\n",
            "Jamaica                      1.4493      0.243      5.960      0.000       0.972       1.927\n",
            "Japan                        1.3772      0.328      4.197      0.000       0.733       2.022\n",
            "Jordan                       0.9986      0.237      4.219      0.000       0.534       1.463\n",
            "Kazakhstan                   1.4002      0.298      4.694      0.000       0.814       1.986\n",
            "Kenya                        0.6129      0.175      3.497      0.001       0.269       0.957\n",
            "Kosovo                       1.4939      0.223      6.709      0.000       1.057       1.931\n",
            "Kuwait                       1.5144      0.361      4.200      0.000       0.806       2.223\n",
            "Kyrgyzstan                   1.1777      0.206      5.722      0.000       0.773       1.582\n",
            "Laos                         0.8524      0.195      4.368      0.000       0.469       1.236\n",
            "Latvia                       1.2512      0.295      4.236      0.000       0.671       1.831\n",
            "Lebanon                      0.9412      0.247      3.812      0.000       0.456       1.426\n",
            "Lesotho                      0.2036      0.190      1.069      0.285      -0.170       0.577\n",
            "Liberia                      0.3463      0.166      2.082      0.038       0.020       0.673\n",
            "Libya                        1.2758      0.269      4.734      0.000       0.747       1.805\n",
            "Lithuania                    1.4339      0.312      4.594      0.000       0.821       2.047\n",
            "Luxembourg                   2.1810      0.389      5.607      0.000       1.417       2.945\n",
            "Macedonia                    0.9152      0.252      3.634      0.000       0.421       1.410\n",
            "Madagascar                   0.1415      0.157      0.902      0.368      -0.167       0.450\n",
            "Malawi                       0.5026      0.156      3.232      0.001       0.197       0.808\n",
            "Malaysia                     1.5216      0.289      5.272      0.000       0.955       2.088\n",
            "Mali                         0.4139      0.180      2.296      0.022       0.060       0.768\n",
            "Malta                        1.9950      0.323      6.169      0.000       1.360       2.630\n",
            "Mauritania                   0.4219      0.190      2.220      0.027       0.049       0.795\n",
            "Mauritius                    1.3842      0.272      5.096      0.000       0.851       1.918\n",
            "Mexico                       2.4505      0.261      9.384      0.000       1.938       2.963\n",
            "Moldova                      1.7293      0.206      8.389      0.000       1.324       2.134\n",
            "Mongolia                     0.7198      0.265      2.717      0.007       0.200       1.240\n",
            "Montenegro                   1.0287      0.257      3.996      0.000       0.523       1.534\n",
            "Morocco                      1.2489      0.191      6.547      0.000       0.874       1.624\n",
            "Mozambique                   1.0016      0.173      5.802      0.000       0.663       1.341\n",
            "Myanmar                      0.5552      0.175      3.178      0.002       0.212       0.898\n",
            "Namibia                      0.4059      0.236      1.721      0.086      -0.057       0.869\n",
            "Nepal                        0.9874      0.177      5.568      0.000       0.639       1.336\n",
            "Netherlands                  2.7978      0.344      8.131      0.000       2.122       3.474\n",
            "New Zealand                  2.7308      0.334      8.177      0.000       2.075       3.387\n",
            "Nicaragua                    1.9741      0.211      9.346      0.000       1.559       2.389\n",
            "Niger                        0.5813      0.164      3.540      0.000       0.259       0.904\n",
            "Nigeria                      1.1258      0.200      5.638      0.000       0.734       1.518\n",
            "North Cyprus                 1.3545      0.312      4.336      0.000       0.741       1.968\n",
            "North Macedonia              0.9824      0.327      3.007      0.003       0.341       1.624\n",
            "Northern Cyprus              1.3503      0.322      4.197      0.000       0.718       1.982\n",
            "Norway                       2.8280      0.372      7.602      0.000       2.097       3.559\n",
            "Oman                         2.3149      0.394      5.870      0.000       1.540       3.089\n",
            "Pakistan                     1.5412      0.170      9.074      0.000       1.208       1.875\n",
            "Palestinian Territories      0.7560      0.196      3.849      0.000       0.370       1.142\n",
            "Panama                       2.1317      0.290      7.351      0.000       1.562       2.701\n",
            "Paraguay                     1.4154      0.252      5.612      0.000       0.920       1.911\n",
            "Peru                         1.5202      0.244      6.242      0.000       1.042       1.999\n",
            "Philippines                  1.2744      0.222      5.747      0.000       0.839       1.710\n",
            "Poland                       1.5159      0.305      4.977      0.000       0.918       2.114\n",
            "Portugal                     0.8535      0.303      2.817      0.005       0.259       1.448\n",
            "Puerto Rico                  2.5007      0.390      6.404      0.000       1.734       3.268\n",
            "Qatar                        1.6687      0.399      4.183      0.000       0.885       2.452\n",
            "Romania                      1.3989      0.269      5.193      0.000       0.870       1.928\n",
            "Russia                       1.3391      0.303      4.419      0.000       0.744       1.934\n",
            "Rwanda                      -0.2090      0.157     -1.329      0.184      -0.518       0.100\n",
            "Saudi Arabia                 1.8205      0.337      5.406      0.000       1.159       2.482\n",
            "Senegal                      0.5689      0.177      3.210      0.001       0.221       0.917\n",
            "Serbia                       1.0820      0.254      4.254      0.000       0.582       1.582\n",
            "Sierra Leone                 0.8913      0.160      5.557      0.000       0.576       1.206\n",
            "Singapore                    1.8649      0.371      5.022      0.000       1.136       2.594\n",
            "Slovakia                     1.5988      0.316      5.067      0.000       0.979       2.218\n",
            "Slovenia                     1.3761      0.317      4.346      0.000       0.754       1.998\n",
            "Somalia                      1.8429      0.273      6.761      0.000       1.308       2.378\n",
            "Somaliland Region            1.3881      0.272      5.095      0.000       0.853       1.923\n",
            "Somaliland region            1.3532      0.272      4.981      0.000       0.820       1.887\n",
            "South Africa                 0.3935      0.259      1.520      0.129      -0.115       0.902\n",
            "South Korea                  1.4695      0.302      4.858      0.000       0.875       2.064\n",
            "South Sudan                 -0.1465      0.156     -0.938      0.348      -0.453       0.160\n",
            "Spain                        1.7985      0.327      5.501      0.000       1.156       2.441\n",
            "Sri Lanka                    0.1883      0.242      0.778      0.437      -0.287       0.664\n",
            "Sudan                        0.2863      0.202      1.415      0.158      -0.111       0.684\n",
            "Suriname                     2.0257      0.288      7.044      0.000       1.461       2.590\n",
            "Swaziland                    0.4297      0.252      1.706      0.089      -0.065       0.925\n",
            "Sweden                       2.7091      0.344      7.869      0.000       2.033       3.385\n",
            "Switzerland                  2.8356      0.362      7.842      0.000       2.125       3.546\n",
            "Syria                       -0.4258      0.168     -2.537      0.011      -0.755      -0.096\n",
            "Taiwan                       1.8486      0.332      5.561      0.000       1.196       2.501\n",
            "Taiwan Province of China     1.8976      0.389      4.872      0.000       1.133       2.662\n",
            "Tajikistan                   1.2483      0.179      6.980      0.000       0.897       1.600\n",
            "Tanzania                    -0.3230      0.170     -1.901      0.058      -0.657       0.011\n",
            "Thailand                     1.9357      0.275      7.033      0.000       1.395       2.476\n",
            "Togo                         0.1767      0.158      1.118      0.264      -0.134       0.487\n",
            "Trinidad & Tobago            1.6728      0.337      4.964      0.000       1.011       2.335\n",
            "Trinidad and Tobago          1.6905      0.326      5.184      0.000       1.050       2.331\n",
            "Tunisia                      0.6823      0.216      3.166      0.002       0.259       1.106\n",
            "Turkey                       1.0524      0.282      3.738      0.000       0.499       1.605\n",
            "Turkmenistan                 1.2106      0.280      4.328      0.000       0.661       1.760\n",
            "Uganda                       0.2587      0.176      1.468      0.143      -0.088       0.605\n",
            "Ukraine                      0.1111      0.240      0.463      0.643      -0.360       0.582\n",
            "United Arab Emirates         2.0983      0.372      5.646      0.000       1.368       2.828\n",
            "United Kingdom               2.3444      0.332      7.072      0.000       1.693       2.996\n",
            "United States                2.3709      0.351      6.751      0.000       1.681       3.061\n",
            "Uruguay                      2.0221      0.290      6.970      0.000       1.452       2.592\n",
            "Uzbekistan                   1.8616      0.241      7.737      0.000       1.389       2.334\n",
            "Venezuela                    1.1742      0.277      4.245      0.000       0.631       1.718\n",
            "Vietnam                      1.0937      0.212      5.170      0.000       0.678       1.509\n",
            "Yemen                       -0.1653      0.168     -0.987      0.324      -0.494       0.164\n",
            "Zambia                       0.7105      0.178      3.980      0.000       0.360       1.061\n",
            "Zimbabwe                     0.2528      0.172      1.470      0.142      -0.085       0.590\n",
            "2016                         0.0010      0.044      0.022      0.983      -0.086       0.088\n",
            "2017                        -0.1891      0.056     -3.363      0.001      -0.299      -0.079\n",
            "2018                        -0.1128      0.047     -2.424      0.016      -0.204      -0.021\n",
            "2019                        -0.0841      0.048     -1.743      0.082      -0.179       0.011\n",
            "intercept                    3.1810      0.139     22.945      0.000       2.909       3.453\n",
            "==============================================================================\n",
            "Omnibus:                       90.395   Durbin-Watson:                   1.709\n",
            "Prob(Omnibus):                  0.000   Jarque-Bera (JB):              449.526\n",
            "Skew:                           0.394   Prob(JB):                     2.44e-98\n",
            "Kurtosis:                       6.652   Cond. No.                     2.59e+17\n",
            "==============================================================================\n",
            "\n",
            "Notes:\n",
            "[1] Standard Errors assume that the covariance matrix of the errors is correctly specified.\n",
            "[2] The smallest eigenvalue is 3.84e-32. This might indicate that there are\n",
            "strong multicollinearity problems or that the design matrix is singular.\n"
          ]
        }
      ]
    },
    {
      "cell_type": "markdown",
      "source": [
        "### Key Differences\n",
        "\n",
        "- **Imputation Method:** The first approach suggests simple imputation, while the second approach does not employ advanced imputation techniques like Iterative Imputer but rather drops rows with missing values.\n",
        "- **Categorical Variable Handling:** The second approach more thoroughly accounts for categorical variables through the creation of dummy variables, allowing for a more nuanced control of fixed effects in the analysis.\n",
        "- **Statistical Detail:** The use of `statsmodels.api.OLS` in the second approach offers a deeper statistical insight into the model, including the significance of individual predictors and model diagnostics, which is particularly valuable for causal inference and understanding the dynamics between variables.\n",
        "\n",
        "Each approach has its strengths and is suited to different stages of data analysis and preparation. The choice between them would depend on the specific goals of the analysis, the nature of the data, and the level of detail required for the causal inference being undertaken."
      ],
      "metadata": {
        "id": "DPwntgaQ4jZU"
      }
    },
    {
      "cell_type": "markdown",
      "source": [
        "### References\n",
        "\n",
        "1. Pearl, J. (2009). Causality: Models, Reasoning, and Inference. Cambridge University Press.\n",
        "2. Rubin, D.B. (2005). Causal Inference Using Potential Outcomes: Design, Modeling, Decisions. Journal of the American Statistical Association.\n",
        "3. Hernán, M.A., & Robins, J.M. (2020). Causal Inference: What If. Chapman & Hall/CRC.\n",
        "\n"
      ],
      "metadata": {
        "id": "L5Pj4jg_8fBF"
      }
    },
    {
      "cell_type": "code",
      "source": [],
      "metadata": {
        "id": "LtiAcPj94mh0"
      },
      "execution_count": null,
      "outputs": []
    }
  ]
}